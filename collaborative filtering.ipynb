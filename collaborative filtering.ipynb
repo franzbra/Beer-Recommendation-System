{
 "cells": [
  {
   "cell_type": "markdown",
   "id": "d2f0630c",
   "metadata": {},
   "source": [
    "Let's start by importing the data for beers and from user"
   ]
  },
  {
   "cell_type": "code",
   "execution_count": 1,
   "id": "d83d8b50",
   "metadata": {},
   "outputs": [
    {
     "data": {
      "text/plain": [
       "(                           Name    Style  \\\n",
       " 0                         Amber  Altbier   \n",
       " 1                    Double Bag  Altbier   \n",
       " 2                Long Trail Ale  Altbier   \n",
       " 3                  Doppelsticke  Altbier   \n",
       " 4  Sleigh'r Dark Doüble Alt Ale  Altbier   \n",
       " \n",
       "                                             Brewery  \\\n",
       " 0                               Alaskan Brewing Co.   \n",
       " 1                            Long Trail Brewing Co.   \n",
       " 2                            Long Trail Brewing Co.   \n",
       " 3  Uerige Obergärige Hausbrauerei GmbH / Zum Uerige   \n",
       " 4                           Ninkasi Brewing Company   \n",
       " \n",
       "                                     Beer Name (Full)  \\\n",
       " 0                  Alaskan Brewing Co. Alaskan Amber   \n",
       " 1                  Long Trail Brewing Co. Double Bag   \n",
       " 2              Long Trail Brewing Co. Long Trail Ale   \n",
       " 3  Uerige Obergärige Hausbrauerei GmbH / Zum Ueri...   \n",
       " 4  Ninkasi Brewing Company Sleigh'r Dark Doüble A...   \n",
       " \n",
       "                                          Description  ABV  Min IBU  Max IBU  \\\n",
       " 0  Notes:Richly malty and long on the palate, wit...  5.3       25       50   \n",
       " 1  Notes:This malty, full-bodied double alt is al...  7.2       25       50   \n",
       " 2  Notes:Long Trail Ale is a full-bodied amber al...  5.0       25       50   \n",
       " 3                                             Notes:  8.5       25       50   \n",
       " 4  Notes:Called 'Dark Double Alt' on the label.Se...  7.2       25       50   \n",
       " \n",
       "    Astringency  Body  ...  Fruits  Hoppy  Spices  Malty  review_aroma  \\\n",
       " 0           13    32  ...      33     57       8    111      3.498994   \n",
       " 1           12    57  ...      24     35      12     84      3.798337   \n",
       " 2           14    37  ...      10     54       4     62      3.409814   \n",
       " 3           13    55  ...      49     40      16    119      4.148098   \n",
       " 4           25    51  ...      11     51      20     95      3.625000   \n",
       " \n",
       "    review_appearance  review_palate  review_taste  review_overall  \\\n",
       " 0           3.636821       3.556338      3.643863        3.847082   \n",
       " 1           3.846154       3.904366      4.024948        4.034304   \n",
       " 2           3.667109       3.600796      3.631300        3.830239   \n",
       " 3           4.033967       4.150815      4.205163        4.005435   \n",
       " 4           3.973958       3.734375      3.765625        3.817708   \n",
       " \n",
       "    number_of_reviews  \n",
       " 0                497  \n",
       " 1                481  \n",
       " 2                377  \n",
       " 3                368  \n",
       " 4                 96  \n",
       " \n",
       " [5 rows x 25 columns],\n",
       "    Column_1  Column_2  Column_3  Column_4  Column_5  Column_6  Column_7  \\\n",
       " 0         0         4         2         2         0         0         4   \n",
       " 1         3         4         0         0         0         3         0   \n",
       " 2         0         0         0         0         0         4         0   \n",
       " 3         0         0         4         0         4         0         0   \n",
       " 4         5         5         3         0         0         0         0   \n",
       " \n",
       "    Column_8  Column_9  Column_10  \n",
       " 0         0         0          1  \n",
       " 1         0         4          0  \n",
       " 2         2         0          1  \n",
       " 3         5         0          2  \n",
       " 4         3         0          0  )"
      ]
     },
     "execution_count": 1,
     "metadata": {},
     "output_type": "execute_result"
    }
   ],
   "source": [
    "import pandas as pd\n",
    "\n",
    "# Load the datasets\n",
    "beer_df = pd.read_csv('archive/beer_profile_and_ratings.csv')\n",
    "users_df = pd.read_csv('archive/users_Y.csv')\n",
    "\n",
    "# Display the first few rows of each dataframe to understand their structure\n",
    "beer_df.head(), users_df.head()\n"
   ]
  },
  {
   "cell_type": "code",
   "execution_count": 2,
   "id": "bab88ab5",
   "metadata": {},
   "outputs": [
    {
     "data": {
      "text/plain": [
       "((3197, 25),\n",
       " Index(['Name', 'Style', 'Brewery', 'Beer Name (Full)', 'Description', 'ABV',\n",
       "        'Min IBU', 'Max IBU', 'Astringency', 'Body', 'Alcohol', 'Bitter',\n",
       "        'Sweet', 'Sour', 'Salty', 'Fruits', 'Hoppy', 'Spices', 'Malty',\n",
       "        'review_aroma', 'review_appearance', 'review_palate', 'review_taste',\n",
       "        'review_overall', 'number_of_reviews'],\n",
       "       dtype='object'),\n",
       " (3197, 10),\n",
       " Index(['Column_1', 'Column_2', 'Column_3', 'Column_4', 'Column_5', 'Column_6',\n",
       "        'Column_7', 'Column_8', 'Column_9', 'Column_10'],\n",
       "       dtype='object'))"
      ]
     },
     "execution_count": 2,
     "metadata": {},
     "output_type": "execute_result"
    }
   ],
   "source": [
    "beer_df.shape, beer_df.columns, users_df.shape, users_df.columns"
   ]
  },
  {
   "cell_type": "markdown",
   "id": "e4e75846",
   "metadata": {},
   "source": [
    "Modify the user dataframe to make it clearer"
   ]
  },
  {
   "cell_type": "code",
   "execution_count": 3,
   "id": "29c27f10",
   "metadata": {
    "scrolled": true
   },
   "outputs": [
    {
     "data": {
      "text/html": [
       "<div>\n",
       "<style scoped>\n",
       "    .dataframe tbody tr th:only-of-type {\n",
       "        vertical-align: middle;\n",
       "    }\n",
       "\n",
       "    .dataframe tbody tr th {\n",
       "        vertical-align: top;\n",
       "    }\n",
       "\n",
       "    .dataframe thead th {\n",
       "        text-align: right;\n",
       "    }\n",
       "</style>\n",
       "<table border=\"1\" class=\"dataframe\">\n",
       "  <thead>\n",
       "    <tr style=\"text-align: right;\">\n",
       "      <th></th>\n",
       "      <th>User 1</th>\n",
       "      <th>User 2</th>\n",
       "      <th>User 3</th>\n",
       "      <th>User 4</th>\n",
       "      <th>User 5</th>\n",
       "      <th>User 6</th>\n",
       "      <th>User 7</th>\n",
       "      <th>User 8</th>\n",
       "      <th>User 9</th>\n",
       "      <th>User 10</th>\n",
       "    </tr>\n",
       "  </thead>\n",
       "  <tbody>\n",
       "    <tr>\n",
       "      <th>0</th>\n",
       "      <td>0</td>\n",
       "      <td>4</td>\n",
       "      <td>2</td>\n",
       "      <td>2</td>\n",
       "      <td>0</td>\n",
       "      <td>0</td>\n",
       "      <td>4</td>\n",
       "      <td>0</td>\n",
       "      <td>0</td>\n",
       "      <td>1</td>\n",
       "    </tr>\n",
       "    <tr>\n",
       "      <th>1</th>\n",
       "      <td>3</td>\n",
       "      <td>4</td>\n",
       "      <td>0</td>\n",
       "      <td>0</td>\n",
       "      <td>0</td>\n",
       "      <td>3</td>\n",
       "      <td>0</td>\n",
       "      <td>0</td>\n",
       "      <td>4</td>\n",
       "      <td>0</td>\n",
       "    </tr>\n",
       "    <tr>\n",
       "      <th>2</th>\n",
       "      <td>0</td>\n",
       "      <td>0</td>\n",
       "      <td>0</td>\n",
       "      <td>0</td>\n",
       "      <td>0</td>\n",
       "      <td>4</td>\n",
       "      <td>0</td>\n",
       "      <td>2</td>\n",
       "      <td>0</td>\n",
       "      <td>1</td>\n",
       "    </tr>\n",
       "    <tr>\n",
       "      <th>3</th>\n",
       "      <td>0</td>\n",
       "      <td>0</td>\n",
       "      <td>4</td>\n",
       "      <td>0</td>\n",
       "      <td>4</td>\n",
       "      <td>0</td>\n",
       "      <td>0</td>\n",
       "      <td>5</td>\n",
       "      <td>0</td>\n",
       "      <td>2</td>\n",
       "    </tr>\n",
       "    <tr>\n",
       "      <th>4</th>\n",
       "      <td>5</td>\n",
       "      <td>5</td>\n",
       "      <td>3</td>\n",
       "      <td>0</td>\n",
       "      <td>0</td>\n",
       "      <td>0</td>\n",
       "      <td>0</td>\n",
       "      <td>3</td>\n",
       "      <td>0</td>\n",
       "      <td>0</td>\n",
       "    </tr>\n",
       "  </tbody>\n",
       "</table>\n",
       "</div>"
      ],
      "text/plain": [
       "   User 1  User 2  User 3  User 4  User 5  User 6  User 7  User 8  User 9  \\\n",
       "0       0       4       2       2       0       0       4       0       0   \n",
       "1       3       4       0       0       0       3       0       0       4   \n",
       "2       0       0       0       0       0       4       0       2       0   \n",
       "3       0       0       4       0       4       0       0       5       0   \n",
       "4       5       5       3       0       0       0       0       3       0   \n",
       "\n",
       "   User 10  \n",
       "0        1  \n",
       "1        0  \n",
       "2        1  \n",
       "3        2  \n",
       "4        0  "
      ]
     },
     "execution_count": 3,
     "metadata": {},
     "output_type": "execute_result"
    }
   ],
   "source": [
    "# Rename the columns in users_df to more meaningful names\n",
    "users_df.columns = [f'User {i+1}' for i in range(users_df.shape[1])]\n",
    "\n",
    "# Display the first few rows of the renamed users_df\n",
    "users_df.head()"
   ]
  },
  {
   "cell_type": "code",
   "execution_count": 4,
   "id": "eed19762",
   "metadata": {},
   "outputs": [
    {
     "name": "stdout",
     "output_type": "stream",
     "text": [
      "RMSE: 1.4744\n"
     ]
    },
    {
     "data": {
      "text/plain": [
       "1.4744395505537649"
      ]
     },
     "execution_count": 4,
     "metadata": {},
     "output_type": "execute_result"
    }
   ],
   "source": [
    "from surprise import Dataset, Reader, SVD\n",
    "from surprise.model_selection import train_test_split\n",
    "from surprise import accuracy\n",
    "\n",
    "# Prepare data for the Surprise library\n",
    "# Convert users_df to long format (user, item, rating)\n",
    "ratings = users_df.reset_index().melt(id_vars=['index'], var_name='user', value_name='rating')\n",
    "ratings.columns = ['beer_id', 'user', 'rating']\n",
    "\n",
    "# Remove rows where rating is 0 (assuming 0 means no rating)\n",
    "ratings = ratings[ratings['rating'] != 0]\n",
    "\n",
    "# Define a Reader object and load the data\n",
    "reader = Reader(rating_scale=(1, 5))  \n",
    "data = Dataset.load_from_df(ratings[['user', 'beer_id', 'rating']], reader)\n",
    "\n",
    "# Split the data into training and test sets\n",
    "trainset, testset = train_test_split(data, test_size=0.2)\n",
    "\n",
    "# Train the SVD model\n",
    "algo = SVD()\n",
    "algo.fit(trainset)\n",
    "\n",
    "# Evaluate the model\n",
    "predictions = algo.test(testset)\n",
    "accuracy.rmse(predictions)\n"
   ]
  },
  {
   "cell_type": "code",
   "execution_count": 5,
   "id": "5bf389f2",
   "metadata": {},
   "outputs": [
    {
     "name": "stdout",
     "output_type": "stream",
     "text": [
      "RMSE: 1.4866\n",
      "RMSE: 1.4865652960981417\n"
     ]
    }
   ],
   "source": [
    "import pandas as pd\n",
    "from surprise import Dataset, Reader, SVD\n",
    "from surprise.model_selection import train_test_split\n",
    "from surprise import accuracy\n",
    "\n",
    "# Assuming users_df is already loaded and columns renamed\n",
    "ratings = users_df.reset_index().melt(id_vars=['index'], var_name='user', value_name='rating')\n",
    "ratings.columns = ['beer_id', 'user', 'rating']\n",
    "ratings = ratings[ratings['rating'] != 0]\n",
    "\n",
    "# Define a Reader object and load the data\n",
    "reader = Reader(rating_scale=(1, 5))  # Binary rating scale\n",
    "data = Dataset.load_from_df(ratings[['user', 'beer_id', 'rating']], reader)\n",
    "\n",
    "# Split the data into training and test sets\n",
    "trainset, testset = train_test_split(data, test_size=0.2)\n",
    "\n",
    "# Train the SVD model\n",
    "algo = SVD()\n",
    "algo.fit(trainset)\n",
    "\n",
    "# Evaluate the model\n",
    "predictions = algo.test(testset)\n",
    "print(f\"RMSE: {accuracy.rmse(predictions)}\")\n"
   ]
  },
  {
   "cell_type": "code",
   "execution_count": 8,
   "id": "cb153824",
   "metadata": {},
   "outputs": [
    {
     "name": "stdout",
     "output_type": "stream",
     "text": [
      "User User 10: [('Cuvee Freddy', 4.233329338935087), ('Heineken Tarwebok', 4.2243549168586), (\"Milwaukee's Best Light\", 4.176924492735365), ('Saranac Chocolate Lager', 4.169674555757348), ('De Koninck APA (Antwaarpse Pale Ale)', 4.142330068784463), ('Speedway Stout', 4.1182297526512865), ('Wolters Pilsener', 4.117519083791828), ('Koko Brown', 4.114865430573337), ('Ola Dubh Special Reserve 12', 4.0824672241846285), ('Imperial Stout', 4.075612606325105)]\n",
      "User User 5: [('Dos Equis Ambar', 4.43420830920791), ('The Saints Whisky Beer', 4.342168563309224), ('White Birch Hooksett Ale', 4.272017556853708), ('Oude Lambik', 4.256099147652705), ('Strike Out Stout', 4.249504283042972), ('Estrella Damm Inedit', 4.202355689496885), ('Witkap Pater Singel / Stimulo', 4.194083525751382), ('Lou Pepe - Gueuze', 4.173838233828795), ('Pipeline Porter', 4.161166880172982), ('Bone Warmer Imperial Amber Ale', 4.16040395160125)]\n",
      "User User 1: [('Old Man Winter', 4.197204411203563), ('Westmalle Trappist Dubbel', 4.189408187439664), ('Pils (Pilsner)', 4.139249620764975), ('ESB Special Ale', 4.133753431743956), ('Heineken Premium Light Lager', 4.1275418741383465), ('Schneider Weisse Tap 3 Mein Alkoholfreies', 4.091583922425535), ('Drevlyansky Kvass', 4.063157419677984), ('Foret', 4.051776746245528), ('Smoky MaryNew Orleans Lager & Ale Brewing Company (NOLA)', 4.027202258839097), ('Heller Bock Saphir', 4.021627284212536)]\n",
      "User User 2: [('Oktoberfest Lager Beer', 4.31393333513711), ('Erdinger Weissbier Pikantus', 4.27744922509008), ('Drevlyansky Kvass', 4.219880618885751), ('Wisconsin Belgian Red', 4.211877105470646), ('La Félix', 4.116394794395261), ('Irish Channel StoutNew Orleans Lager & Ale Brewing Company (NOLA)', 4.100601919377462), ('Blåbær Lambik', 4.0977695966886465), ('Bold Coast Pemaquid Ale', 4.096009156216686), (\"Danny's Irish Style Red Ale\", 4.081626927004406), ('Steel Wheels ESB', 4.071499900913238)]\n",
      "User User 9: [(\"O'Doul's\", 4.671020660047413), ('Stiegl Goldbräu', 4.531785841687764), ('Krystal Weizen', 4.231726312081312), ('Schöfferhofer Dunkles Hefeweizen', 4.172554329462277), ('Lighthouse Amber', 4.080859790700218), ('Sly Rye Porter', 4.0569951235943105), ('Pub Brown Ale', 4.036730584436278), ('Extra Special Bitter (ESB)', 4.030642076344774), ('Porter', 4.019693784749126), ('Boon Kriek', 3.998927666801852)]\n",
      "User User 7: [('Shiner Dunkelweizen', 4.3458034536024375), ('Celebration Fresh Hop IPA', 4.276164087681824), ('Anchor Steam Beer', 4.218939260461174), (\"G'Knight\", 4.2162824378770996), ('Molson Exel', 4.181292624623819), ('Hofbräu Dunkel', 4.179903277290121), ('Göller Rauchbier', 4.160202854949819), ('Fischer Tradition Amber', 4.158199276796954), ('Motor City Brewing Ghettoblaster', 4.156784338611102), ('Bar Fly', 4.133171822918969)]\n",
      "User User 4: [('Laughing Fox', 4.205381186628955), ('Red Bird Ale', 4.202260415815912), ('Dos Perros', 4.177253083649282), ('Saxonator Dunkles Doppelbock', 4.131161149116392), ('Bonecrusher Stout', 4.086679568104549), ('Belgian Blonde', 4.063103442093883), ('Salmon Fly Honey Rye', 4.019998971362119), ('Black', 4.017748509288774), ('Shiner Blonde', 4.013712062055193), ('Olde Ore Dock Scottish Ale', 4.008564839092179)]\n",
      "User User 8: [('Old Man Winter', 4.339797139386999), ('RastafaRye Ale', 4.306654913136927), ('Berliner Weisse', 4.248490649980956), ('Crazy Stallion', 4.153189012816569), ('Dopple Bock', 4.141235636645303), ('Bokbier', 4.137264571681565), ('Oktoberfest', 4.128024068482347), ('Pyramid Apricot Ale', 4.098413709928478), ('Lionshead Pilsner', 4.098305710941973), ('Tuverbol', 4.082913252561939)]\n",
      "User User 6: [('Florida Cracker', 4.551634366519077), ('Oatmeal Porter', 4.468249213600509), (\"Dorothy Goodbody's Wholesome Stout\", 4.3911344567331625), ('Blind Faith', 4.329893726521524), ('Miller Genuine Draft 64', 4.323353290891915), ('Granitbock', 4.309618282324944), ('Guinness Foreign Extra Stout', 4.283294270742723), ('Switchback Ale', 4.275787444199194), ('Namaste White Belgian-Style Witbier', 4.264109065228827), ('Sterkens Dubbel Ale', 4.259792544987956)]\n",
      "User User 3: [('Imperial Cherry Gose', 4.298791014672817), ('Blonde Lager', 4.278539278334429), ('Triple', 4.2127893552322835), ('Kölsch', 4.139305184796862), ('Hercules Double IPA', 4.1366950848853), ('Tempelier', 4.125770451278408), ('Campfire Smoked Porter', 4.123388418731157), ('Jeremiah Red Ale', 4.121439220659327), ('Fat Cat Lager', 4.114957492212749), ('Simcoe Silly', 4.0553086615643625)]\n"
     ]
    }
   ],
   "source": [
    "def get_top_n(predictions, n=10, id_to_name=None):\n",
    "    from collections import defaultdict\n",
    "    #create a dictionary containing as keys the users\n",
    "    #each item contains an item id and the predicted rating\n",
    "    top_n = defaultdict(list)\n",
    "    #uid: User ID\n",
    "    #iid: Item ID (beer ID in this case)\n",
    "    #true_r: True rating (provided by the user)\n",
    "    #est: Estimated rating (predicted by the model)\n",
    "    for uid, iid, true_r, est, _ in predictions:\n",
    "        top_n[uid].append((iid, est))\n",
    "    \n",
    "    #Sort the items\n",
    "    for uid, user_ratings in top_n.items():\n",
    "        user_ratings.sort(key=lambda x: x[1], reverse=True)\n",
    "        if id_to_name:\n",
    "            user_ratings = [(id_to_name[iid], est) for (iid, est) in user_ratings[:n]]\n",
    "        else:\n",
    "            user_ratings = user_ratings[:n]\n",
    "        top_n[uid] = user_ratings\n",
    "    \n",
    "    return top_n\n",
    "# Generate recommendations for all users\n",
    "#build_anti_testset(): This method generates an \"anti-testset\" from the training set. The anti-testset consists of all user-item pairs that are not present in the training set, i.e., all items that a user has not rated. Essentially, it includes every possible user-item pair that could be recommended, minus the pairs that were in the training set.\n",
    "#algo: This is the trained collaborative filtering model (in this case, an instance of SVD).\n",
    "# The test method takes a set of user-item pairs and predicts ratings for them. The input should be a list of tuples \n",
    "predictions = algo.test(trainset.build_anti_testset())\n",
    "beer_id_to_name = beer_df.reset_index().set_index('index')['Name'].to_dict()\n",
    "top_n = get_top_n(predictions, n=10, id_to_name=beer_id_to_name)\n",
    "\n",
    "# Print the recommended items for each user\n",
    "for user, user_ratings in top_n.items():\n",
    "    print(f\"User {user}: {user_ratings}\")\n"
   ]
  },
  {
   "cell_type": "code",
   "execution_count": null,
   "id": "36d7ce60",
   "metadata": {},
   "outputs": [],
   "source": []
  }
 ],
 "metadata": {
  "kernelspec": {
   "display_name": "Python 3 (ipykernel)",
   "language": "python",
   "name": "python3"
  },
  "language_info": {
   "codemirror_mode": {
    "name": "ipython",
    "version": 3
   },
   "file_extension": ".py",
   "mimetype": "text/x-python",
   "name": "python",
   "nbconvert_exporter": "python",
   "pygments_lexer": "ipython3",
   "version": "3.9.7"
  }
 },
 "nbformat": 4,
 "nbformat_minor": 5
}
